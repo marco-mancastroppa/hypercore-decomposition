{
 "cells": [
  {
   "cell_type": "code",
   "execution_count": 1,
   "id": "b8eae5e2",
   "metadata": {},
   "outputs": [],
   "source": [
    "import pandas as pd\n",
    "import json\n",
    "import numpy as np\n",
    "import itertools"
   ]
  },
  {
   "cell_type": "code",
   "execution_count": 2,
   "id": "c16d542a",
   "metadata": {},
   "outputs": [],
   "source": [
    "datasets=['M_PL_015','M_PL_062'] ## ECO datasets - nodes=insect species, hyperedges=plants\n",
    "for dataset in datasets:\n",
    "    filename='{0}.csv'.format(dataset)\n",
    "    df = pd.read_csv(filename)\n",
    "    \n",
    "    data=[]\n",
    "    for i in range(len(df)): #rows are plants - hyperedges\n",
    "        h_edge=[]\n",
    "        for k in range(len(df.loc[i])): #columns are insect species - nodes\n",
    "            if df.loc[i][k]==1: \n",
    "                h_edge.append(k) # build hyperedges\n",
    "        data.append(h_edge)\n",
    "\n",
    "    data = [data[i] for i in range(len(data)) if len(data[i])>1] #keep only interactions with at least 2 nodes\n",
    "    for i in range(len(data)): # order each interaction with increasing order in node labels, e.g. [2,1] -> [1,2]\n",
    "        data[i].sort()\n",
    "    data.sort() # order all the interactions\n",
    "    data = list(data for data,_ in itertools.groupby(data)) # remove duplicates\n",
    "    data.sort(key = len) # order the interactions according to their size\n",
    "\n",
    "    with open('{0}_ECO_ins.json'.format(dataset),'w') as f:\n",
    "        json.dump(data, f)"
   ]
  },
  {
   "cell_type": "code",
   "execution_count": 3,
   "id": "3462747a",
   "metadata": {},
   "outputs": [],
   "source": [
    "datasets=['M_PL_015','M_PL_062'] ## ECO datasets - nodes=plants, hyperedges=insect species\n",
    "for dataset in datasets:\n",
    "    filename='{0}.csv'.format(dataset)\n",
    "    df = pd.read_csv(filename)\n",
    "    \n",
    "    mat=pd.DataFrame(df).to_numpy()\n",
    "\n",
    "    data=[]\n",
    "    for i in range(1,len(mat[0])): #columns are insect species - hyperedges\n",
    "        h_edge=[]\n",
    "        for k in range(len(mat)): #rows are plants - nodes\n",
    "            if mat[k][i]==1:\n",
    "                h_edge.append(k) # build hyperedges\n",
    "        data.append(h_edge)\n",
    "\n",
    "    data = [data[i] for i in range(len(data)) if len(data[i])>1] #keep only interactions with at least 2 nodes\n",
    "    for i in range(len(data)): # order each interaction with increasing order in node labels, e.g. [2,1] -> [1,2]\n",
    "        data[i].sort()\n",
    "    data.sort() # order all the interactions\n",
    "    data = list(data for data,_ in itertools.groupby(data)) # remove duplicates\n",
    "    data.sort(key = len) # order the interactions according to their size\n",
    "\n",
    "    with open('{0}_ECO_pl.json'.format(dataset),'w') as f:\n",
    "        json.dump(data, f)"
   ]
  }
 ],
 "metadata": {
  "kernelspec": {
   "display_name": "Python 3 (ipykernel)",
   "language": "python",
   "name": "python3"
  },
  "language_info": {
   "codemirror_mode": {
    "name": "ipython",
    "version": 3
   },
   "file_extension": ".py",
   "mimetype": "text/x-python",
   "name": "python",
   "nbconvert_exporter": "python",
   "pygments_lexer": "ipython3",
   "version": "3.9.12"
  }
 },
 "nbformat": 4,
 "nbformat_minor": 5
}
