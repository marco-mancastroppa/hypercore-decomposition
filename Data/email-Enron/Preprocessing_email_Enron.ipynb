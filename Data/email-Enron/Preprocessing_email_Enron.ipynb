{
 "cells": [
  {
   "cell_type": "code",
   "execution_count": 1,
   "id": "931d76f3",
   "metadata": {},
   "outputs": [],
   "source": [
    "import json\n",
    "\n",
    "f = open('Original/email-Enron-full-nverts.txt', 'r') #vector with number of hyperesges sizes\n",
    "size_hype = f.read().splitlines()\n",
    "\n",
    "f = open('Original/email-Enron-full-simplices.txt', 'r') #vector with nodes ID\n",
    "nodes_hype = f.read().splitlines()\n",
    "\n",
    "data=[]\n",
    "idx=0\n",
    "\n",
    "for k in range(len(size_hype)):\n",
    "    data.append([])\n",
    "    for i in range(int(size_hype[k])):\n",
    "        data[k].append(int(nodes_hype[idx+i])) \n",
    "    idx=idx+int(size_hype[k])\n",
    "\n",
    "with open('email-Enron_simplices.json', 'w') as f:\n",
    "    json.dump(data, f)"
   ]
  }
 ],
 "metadata": {
  "kernelspec": {
   "display_name": "Python 3 (ipykernel)",
   "language": "python",
   "name": "python3"
  },
  "language_info": {
   "codemirror_mode": {
    "name": "ipython",
    "version": 3
   },
   "file_extension": ".py",
   "mimetype": "text/x-python",
   "name": "python",
   "nbconvert_exporter": "python",
   "pygments_lexer": "ipython3",
   "version": "3.9.12"
  }
 },
 "nbformat": 4,
 "nbformat_minor": 5
}
